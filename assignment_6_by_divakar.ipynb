{
  "nbformat": 4,
  "nbformat_minor": 0,
  "metadata": {
    "colab": {
      "name": "assignment 6 by divakar.ipynb",
      "provenance": [],
      "authorship_tag": "ABX9TyMdHKR2Mcuikl0tRhJio5Mn",
      "include_colab_link": true
    },
    "kernelspec": {
      "name": "python3",
      "display_name": "Python 3"
    },
    "language_info": {
      "name": "python"
    }
  },
  "cells": [
    {
      "cell_type": "markdown",
      "metadata": {
        "id": "view-in-github",
        "colab_type": "text"
      },
      "source": [
        "<a href=\"https://colab.research.google.com/github/DIVAKARYANDRA/day-6-assignment/blob/main/assignment_6_by_divakar.ipynb\" target=\"_parent\"><img src=\"https://colab.research.google.com/assets/colab-badge.svg\" alt=\"Open In Colab\"/></a>"
      ]
    },
    {
      "cell_type": "code",
      "execution_count": 1,
      "metadata": {
        "colab": {
          "base_uri": "https://localhost:8080/"
        },
        "id": "k4Mr3PiceblB",
        "outputId": "3de46a65-4fe0-4cd4-c139-7acac4b88ecb"
      },
      "outputs": [
        {
          "output_type": "stream",
          "name": "stdout",
          "text": [
            "Enter two Numbers: 10 20\n",
            "2\n"
          ]
        }
      ],
      "source": [
        "def mod_div(fun):\n",
        "\tdef deno(a, b):\n",
        "\t\tif a < b :\n",
        "\t\t\ta, b = b, a\n",
        "\t\treturn fun(a, b)\n",
        "\treturn deno\n",
        "\t\n",
        "@mod_div\n",
        "def div(a, b):\n",
        "\treturn  a // b\n",
        "    \n",
        "a, b = (int(i) for i in input(\"Enter two Numbers: \").split())\n",
        "\n",
        "\n",
        "print(div(a, b))"
      ]
    }
  ]
}